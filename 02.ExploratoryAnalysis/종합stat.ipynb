{
 "cells": [
  {
   "cell_type": "markdown",
   "id": "4d173ee8-05b7-4914-8e94-d66ea18dfaf3",
   "metadata": {},
   "source": [
    "# 기본 라이브러리 실행"
   ]
  },
  {
   "cell_type": "code",
   "execution_count": 2,
   "id": "55c1fe1a-7a8a-4048-a177-a39a957f0945",
   "metadata": {},
   "outputs": [],
   "source": [
    "import pandas as pd\n",
    "import numpy as np\n",
    "import statsmodels.stats.proportion as prop\n",
    "import scipy.stats as stats\n",
    "from scipy.stats import shapiro\n",
    "\n",
    "import matplotlib\n",
    "import matplotlib.pyplot as plt\n",
    "# 한글 표시를 위한 코드\n",
    "#matplotlib.rc('font', family = 'Malgun Gothic')\n",
    "\n",
    "import matplotlib as mpl\n",
    "# 유니코드 깨짐현상 해결\n",
    "mpl.rcParams['axes.unicode_minus'] = False\n",
    "# 나눔고딕 폰트 적용\n",
    "plt.rcParams[\"font.family\"] = 'NanumGothic'\n",
    "plt.rcParams['font.size'] = 14\n",
    "\n",
    "# - 부호 표시를 위한 코드\n",
    "matplotlib.rc('axes', unicode_minus = False)\n",
    "import seaborn as sns\n",
    "\n",
    "# 경고 무시 코드\n",
    "import warnings\n",
    "warnings.filterwarnings('ignore')"
   ]
  },
  {
   "cell_type": "markdown",
   "id": "cc4b7c26-3661-4407-bd70-dbb4e0c5c34f",
   "metadata": {},
   "source": [
    "# 1.연속형 확률분포의 확률 구하기"
   ]
  },
  {
   "cell_type": "markdown",
   "id": "05451ab7-85c1-4e32-8882-b99a39686dc5",
   "metadata": {},
   "source": [
    "## 실습 4. 정규분포 계산1"
   ]
  },
  {
   "cell_type": "code",
   "execution_count": 2,
   "id": "cbe0a457-4501-4284-b857-51732e3d4bb4",
   "metadata": {},
   "outputs": [
    {
     "name": "stdout",
     "output_type": "stream",
     "text": [
      "내 키 상위 : 15.90%\n"
     ]
    }
   ],
   "source": [
    "mu = 175 # 평균\n",
    "sigma = 5 # 표준편차\n",
    "x = 180 # 관찰값\n",
    "\n",
    "prob = stats.norm.cdf(x, mu, sigma).round(3) # 정규분포 x값 누적확률\n",
    "print(f\"내 키 상위 : {(1-prob) * 100:.2f}%\") # 정규분포 상위누적확률"
   ]
  },
  {
   "cell_type": "markdown",
   "id": "673c4673-1783-433e-82e9-d8d38a481181",
   "metadata": {},
   "source": [
    "## 실습 5. 정규분포 계산2"
   ]
  },
  {
   "cell_type": "code",
   "execution_count": 3,
   "id": "3d951269-db08-4a92-a9ae-4e85317825cf",
   "metadata": {},
   "outputs": [
    {
     "name": "stdout",
     "output_type": "stream",
     "text": [
      "1번 : 9km 이상 15km 이하 달릴 확률 : 68.20%\n",
      "1번 : 15km 이상 달릴 확률 : 15.90%\n"
     ]
    }
   ],
   "source": [
    "mu = 12 # 모평균\n",
    "sigma = 3 # 모표준편차\n",
    "xunder = 9 # 누적확률1의 x값\n",
    "xup = 15 # 누적확률2의 x값\n",
    "prob_under = stats.norm.cdf(xunder, mu, sigma).round(3)\n",
    "prob_up = stats.norm.cdf(xup, mu, sigma).round(3)\n",
    "prob = prob_up - prob_under # 누적확률2 - 누적확률1\n",
    "\n",
    "print(f\"1번 : 9km 이상 15km 이하 달릴 확률 : {prob * 100:.2f}%\")\n",
    "print(f\"1번 : 15km 이상 달릴 확률 : {(1 - prob_up) * 100:.2f}%\")"
   ]
  },
  {
   "cell_type": "markdown",
   "id": "60530d99-0efb-47af-9424-35cfacefe0ec",
   "metadata": {},
   "source": [
    "## 실습 6. t 분포 계산"
   ]
  },
  {
   "cell_type": "code",
   "execution_count": 4,
   "id": "1ddbb75d-bcdd-4e44-9958-1ea32f20ccf9",
   "metadata": {},
   "outputs": [
    {
     "name": "stdout",
     "output_type": "stream",
     "text": [
      "P(T <= t) : 0.976%\n"
     ]
    }
   ],
   "source": [
    "t = 2 # t 값이 2\n",
    "df = 100 # 자유도 100\n",
    "\n",
    "prob_under = stats.t.cdf(t, df).round(3) # t분포 누적확률분포\n",
    "\n",
    "print(f\"P(T <= t) : {prob_under:.3f}%\")"
   ]
  },
  {
   "cell_type": "markdown",
   "id": "a812724a-42b4-42ef-821d-c00e2996c857",
   "metadata": {},
   "source": [
    "## 실습 7. chi^2 분포 계산"
   ]
  },
  {
   "cell_type": "code",
   "execution_count": 5,
   "id": "ac0fdeaa-6430-42e4-a89b-254ff96e47a7",
   "metadata": {},
   "outputs": [
    {
     "name": "stdout",
     "output_type": "stream",
     "text": [
      "P(X <= 3) : 0.0656\n"
     ]
    }
   ],
   "source": [
    "chisq = 3 # chi 값은 3\n",
    "df = 8 # 자유도 3\n",
    "prob = stats.chi2.cdf(chisq, df)\n",
    "print(f\"P(X <= {chisq}) : {(prob):.4f}\")"
   ]
  },
  {
   "cell_type": "raw",
   "id": "5965321f-08df-4472-aecf-3f23703b8435",
   "metadata": {},
   "source": [
    "chi2 분포는 크기가 n인 표본을 무작위로 반복추출할때\n",
    "각 표본에 대한 표본분산들은 카이제곱 분포를 따른다.\n",
    "\n",
    "용도\n",
    "1. 모집단의 분산 추정\n",
    "2. 빈도 기반분포 또는 형태 적합도 검정\n",
    "3. 여러 집단 간의 독립/동질성 검정"
   ]
  },
  {
   "cell_type": "markdown",
   "id": "3a48e304-7808-4de3-8f4a-4015e531b5ed",
   "metadata": {},
   "source": [
    "## 실습 8. F 분포 계산"
   ]
  },
  {
   "cell_type": "code",
   "execution_count": 6,
   "id": "43c80efa-e2ab-4602-b953-30c0b1e68e37",
   "metadata": {},
   "outputs": [
    {
     "name": "stdout",
     "output_type": "stream",
     "text": [
      "P(X <= 1.5) : 0.8662\n"
     ]
    }
   ],
   "source": [
    "f = 1.5 # f 값 1.5\n",
    "dfnum = 10 # f_1 자유도\n",
    "dfden = 1100 # f_2 자유도\n",
    "prob = stats.f.cdf(x=f, dfn = dfnum, dfd = dfden)\n",
    "print(f\"P(X <= {f}) : {(prob):.4f}\")"
   ]
  },
  {
   "cell_type": "markdown",
   "id": "332027f4-03a6-43d5-bc09-52b15e6b4d2f",
   "metadata": {},
   "source": [
    "# 2.카이제곱검정과 관련한 문제"
   ]
  },
  {
   "cell_type": "markdown",
   "id": "9d7c914f-ce7d-4c74-af64-081ee2b2dcb7",
   "metadata": {},
   "source": [
    "## 실습 8. Chi-square test"
   ]
  },
  {
   "cell_type": "code",
   "execution_count": 7,
   "id": "9cdbb22d-e502-4aff-9b39-bb667aba7a96",
   "metadata": {},
   "outputs": [
    {
     "name": "stdout",
     "output_type": "stream",
     "text": [
      "chi-square test\n",
      "chisq: 98.274\n",
      "p: 0.000\n",
      "degree pf freedom: 30\n",
      "expected value: \n",
      "[[11.004  8.21   5.24   3.843  1.921  9.782]\n",
      " [ 8.528  6.362  4.061  2.978  1.489  7.581]\n",
      " [10.454  7.799  4.978  3.651  1.825  9.293]\n",
      " [ 8.253  6.157  3.93   2.882  1.441  7.336]\n",
      " [ 7.978  5.952  3.799  2.786  1.393  7.092]\n",
      " [ 8.803  6.568  4.192  3.074  1.537  7.825]\n",
      " [ 7.978  5.952  3.799  2.786  1.393  7.092]]\n"
     ]
    }
   ],
   "source": [
    "\n",
    "df = pd.DataFrame({'A' : [18,1,8,7,10,9,10] ,'B' : [8,2,14,5,5,9,4],\n",
    "                  'C' : [4,1,3,4,9,5,4] , 'D' : [4,1,2,3,2,7,3],\n",
    "                  'E' : [3,1,3,1,1,1,1], 'F' : [3,25,8,10,2,1,7]})\n",
    "chi, pval, dof, expected = stats.chi2_contingency(df)\n",
    "\n",
    "print('chi-square test')\n",
    "print(f'chisq: {chi:0.3f}')\n",
    "print(f'p: {pval:0.3f}')\n",
    "print(f'degree pf freedom: {dof}')\n",
    "print(f'expected value: \\n{expected.round(3)}')"
   ]
  },
  {
   "cell_type": "raw",
   "id": "a636f627-33a2-4974-80ec-9f8ba15032eb",
   "metadata": {},
   "source": [
    "노트북 컴퓨터의 6가지 제품(A, B, C, D, E, F)에 대해 7가지 제품이미지 차이를 알아보고 싶다.\n",
    "범주형 변수의 그룹 간 빈도차이를 비교하고 싶을 때 가설 검정을 수행하는 방법으로 chi-square test를 실시한다.\n",
    "제품 별 관측도수와 기대도수를 비교하여 검정통계량을 계산하고 이를 통해 가설을 검정한다.\n",
    "\n",
    "chi-square test 검정의 가설설정\n",
    "귀무가설 H0 : 제품별 이미지 차이는 같다\n",
    "대립가설 H1 : 제품별 이미지 차이는 다르다\n",
    "\n",
    "계산식이 내장된 함수를 활용하여 Chisq-통계량은 98.274 , p-value = (0.000) 라는 것을 알 수 있다.\n",
    "\n",
    "위의 결과와 같이 p-value = 0.000 으로 유의수준 a=0.05에서 대립가설을 채택한다.\n",
    "즉, 유의수준 5%에서 노트북 컴퓨터의 6가지 제품(A, B, C, D, E, F)에 대해 7가지 제품이미지 차이는 다르다고 할 수 있다."
   ]
  },
  {
   "cell_type": "markdown",
   "id": "11d48b93-1ff6-4299-8761-b4e09d92468a",
   "metadata": {},
   "source": [
    "# 3.이항확률분포 확률 구하기"
   ]
  },
  {
   "cell_type": "markdown",
   "id": "e9a523fc-762d-4303-ae81-46709f80f09b",
   "metadata": {},
   "source": [
    "## 실습 9. 이항확률분포 계산"
   ]
  },
  {
   "cell_type": "code",
   "execution_count": 10,
   "id": "bad6ad2c-40bb-4671-aa62-9951890c5d71",
   "metadata": {},
   "outputs": [
    {
     "name": "stdout",
     "output_type": "stream",
     "text": [
      "P(X <= 0) : 0.774\n",
      "P(X <= 1) : 0.204\n",
      "P(X <= 2) : 0.021\n",
      "P(X <= 3) : 0.001\n",
      "P(X <= 4) : 0.000\n",
      "P(X <= 5) : 0.000\n",
      "0.02200000000000002\n",
      "0.25\n"
     ]
    }
   ],
   "source": [
    "# 도장공정에서 불량률은 0.05 일때\n",
    "# 5대의 차량을 임의로 선택했을때 불량대수가 각각 0,1,2,3,4,5 가 나올 확률은?\n",
    "\n",
    "n=5\n",
    "for i in range(n+1):\n",
    "    prob = stats.binom.pmf(k=i, n=n, p=0.05)\n",
    "    print(f\"P(X <= {i}) : {(prob):.3f}\")\n",
    "print(1-(0.774 + 0.204))\n",
    "print(5 * (0.05))"
   ]
  },
  {
   "cell_type": "markdown",
   "id": "274d4ecb-16a7-4020-bac9-d821b91dfb11",
   "metadata": {},
   "source": [
    "# 4.평균검정에서 두 집단 검정 차이점"
   ]
  },
  {
   "cell_type": "markdown",
   "id": "a6369afd-aace-4219-a2e1-3271eb2b19d5",
   "metadata": {},
   "source": [
    "## 실습 4. 2-sample t-test"
   ]
  },
  {
   "cell_type": "code",
   "execution_count": 9,
   "id": "3308f3a2-1f2d-4a5d-8e7a-cfed55acb136",
   "metadata": {},
   "outputs": [
    {
     "name": "stdout",
     "output_type": "stream",
     "text": [
      "       A      B\n",
      "0  1.883  1.435\n",
      "1  1.715  1.572\n",
      "2  1.799  1.486\n",
      "3  1.768  1.511\n",
      "4  1.711  1.457\n",
      "5  1.832  1.548\n",
      "6  1.427  1.404\n",
      "7  1.344  1.800\n",
      "2-sample t-test\n",
      "t: 1.94\n",
      "p: 0.073\n"
     ]
    }
   ],
   "source": [
    "a = pd.DataFrame({'A' : [1.883, 1.715, 1.799, 1.768, 1.711, 1.832, 1.427, 1.344],\n",
    "                'B' : [1.435, 1.572, 1.486, 1.511, 1.457, 1.548, 1.404, 1.800]})\n",
    "print(a)\n",
    "\n",
    "t_result = stats.ttest_ind(a['A'],a['B'])\n",
    "t, p = t_result.statistic.round(3), t_result.pvalue.round(3)\n",
    "\n",
    "print('2-sample t-test')\n",
    "print(f't: {t}')\n",
    "print(f'p: {p}')"
   ]
  },
  {
   "cell_type": "raw",
   "id": "73025a33-b12e-44dd-9388-6ff85dc1079f",
   "metadata": {},
   "source": [
    "A, B공급자에게 받은 제품의 두께에 대한 모평균에 대한 차이가 있는지 알아보고 싶다.\n",
    "# 두 표본집단의 평균의 차이 검정을 위해 사용됨 - 2 sample t-test\n",
    "\n",
    "이때 우리는 두 데이터 샘플에 대해 다음과 같은 가정을 전제한다.(실습의 목적을 벗어남)\n",
    "\n",
    "독립성: 두 표본은 서로 독립적이어야 한다. 즉, 하나의 관찰값이 다른 관찰값에 영향을 미치지 않아야한다.\n",
    "정규성: 각 표본이 정규 분포를 따라야 한다. 그러나 표본의 크기가 충분히 크면 중심극한정리에 의해 정규성 가정이 문제되지 않을 수 있다.\n",
    "        A.D normality test 를 통해 정규성을 검정한다.\n",
    "\n",
    "등분산성: 두 표본의 분산이 서로 같아야 한다. 즉, 두 그룹의 데이터가 대체로 비슷한 변동성을 가져야 하는데 등분산성 가정은 두 모집단의 분산이 동일하다는 것을 의미한다.\n",
    "        데이터들이 정규분포를 따르는 지 여부에 따라 Bartlett's test(정규성을 따름), Lavene's test(정규성이 불필요) 로 나뉜다.\n",
    "        두 집단이 등분산성을 충족한다면 Student's T 검정을 사용\n",
    "        두 집단이 등분산성을 가지지 못하면 Welch's T 검정을 사용해야한다.\n",
    "        \n",
    "만약 이러한 가정들이 충족되지 않는다면, 비모수적인 방법을 사용하거나 데이터를 전처리하여 가정을 만족시킬 수 있다.\n",
    "    \n",
    "해당 A, B 공급자로부터의 받은 두 집단의 제품비교에 대해 독립 이표본 t-test 검정을 실시한다.\n",
    "\n",
    "t-test 검정의 가설설정\n",
    "귀무가설 H0 : mu_A = mu_B\n",
    "대립가설 H1 : mu_A != mu_B\n",
    "\n",
    "계산식이 내장된 함수를 활용하여 t-통계량은 1.94 , p-value = (0.073) 라는 것을 알 수 있다.\n",
    "\n",
    "위의 결과와 같이 p-value = 0.073 으로 유의수준 a=0.05 에서 대립가설을 기각한다.\n",
    "즉, 유의수준 5%에서 A 공급자 제품 두께와 B 공급자 제품 두께의 차이는 있다고 할 증거를 찾을 수 없고\n",
    "A 제품과 B 제품의 두께차이는 같다고 추정할 수 있다."
   ]
  },
  {
   "cell_type": "markdown",
   "id": "402f3815-1da1-42db-9a7c-ed8168340f48",
   "metadata": {},
   "source": [
    "## 실습 5. Paired t-test"
   ]
  },
  {
   "cell_type": "code",
   "execution_count": 10,
   "id": "dda5513e-9486-4061-bab0-2b4b0aeeadc2",
   "metadata": {},
   "outputs": [
    {
     "name": "stdout",
     "output_type": "stream",
     "text": [
      "Paired t-test\n",
      "t: -2.2661\n",
      "p: 0.0497\n"
     ]
    }
   ],
   "source": [
    "df = pd.DataFrame({'d1' : [720,589,780,648,720,589,780,648,780,648],\n",
    "                   'd2' : [710,580,787,712,750,600,782,670,790,680]})\n",
    "df.head()\n",
    "t_result = stats.ttest_rel(df['d1'],df['d2'])\n",
    "t, p = t_result.statistic.round(4), t_result.pvalue.round(4)\n",
    "print('Paired t-test')\n",
    "print(f't: {t}' )\n",
    "print(f'p: {p}' )"
   ]
  },
  {
   "cell_type": "raw",
   "id": "3c8cf209-8a77-48eb-ab31-74765a9fc9a6",
   "metadata": {},
   "source": [
    "회사원 10명에 대해 학원가기 전/후 영어점수에 대해 차이가 있는지 검정하고 싶다.\n",
    "# 한 표본집단에서 특정 사건의 사후검정을 위해 사용됨 - paired t-test\n",
    "\n",
    "이때 우리는 두 데이터 샘플에 대해 다음과 같은 가정을 전제한다.(실습의 목적을 벗어남)\n",
    "\n",
    "등간성: Paired t-test에서는 각 쌍의 관측값들이 적어도 등간척도(Interval scale)를 가지는 것을 가정한다. 등간 척도란 관측값들 사이의 간격이 의미를 가지는 척도를 말한다.\n",
    "정규성: 각 쌍의 관측값들이 정규 분포를 따른다고 가정한다.\n",
    "    이상치(outliers)의 부재: Paired t-test는 이상치에 민감하기때문에 이상치가 없는 것을 확인한다. 이상치가 있는 경우 결과에 큰 영향을 미친다.\n",
    "독립성: 각 쌍의 관측값들은 서로 독립적이다. 쌍의 관측값들이 서로 의존하거나 종속적인 경우 paired t-test의 가정이 위배된다.\n",
    "\n",
    "등분산성: Paired t-test는 두 집단의 분산이 동일하다는 등분산성 가정을 가지고 있다.\n",
    "    즉, 두 집단의 분산이 같아야하는데 만약 등분산성 가정이 만족되지 않는다면, 비모수적인 검정 방법인 Wilcoxon signed-rank test를 사용할 수 있다.\n",
    "만약 이러한 가정들이 충족되지 않는다면, 비모수적인 방법을 사용하거나 데이터를 전처리하여 가정을 만족시킬 수 있다.\n",
    "    \n",
    "해당 데이터에 대해 학원가기 전/후 영어점수에 대해 Paired t-test를 실시한다.\n",
    "\n",
    "t-test 검정의 가설설정\n",
    "귀무가설 H0 : mu_before = mu_after\n",
    "대립가설 H1 : mu_before != mu_after\n",
    "\n",
    "계산식이 내장된 함수를 활용하여 t-통계량은 -2.2661 , p-value = (0.0497) 라는 것을 알 수 있다.\n",
    "\n",
    "위의 결과와 같이 p-value = 0.0493 으로 유의수준 a=0.05 에서 대립가설을 채택한다.\n",
    "즉, 유의수준 5%에서 회사원 10명에 대해 학원가기의 전/후 영어점수의 차이는 있다고 추정할 수 있다."
   ]
  },
  {
   "cell_type": "markdown",
   "id": "5d161f1d-6be5-4b75-a615-d28351dcea6d",
   "metadata": {},
   "source": [
    "# 5.상관분석"
   ]
  },
  {
   "cell_type": "markdown",
   "id": "20d1d5d3-c7da-42b3-a5c6-06faf13ee975",
   "metadata": {
    "tags": []
   },
   "source": [
    "## 실습 10. Corrleation Analysis"
   ]
  },
  {
   "cell_type": "code",
   "execution_count": 11,
   "id": "2d881e11-71ae-433d-a686-eefa6b8198cf",
   "metadata": {},
   "outputs": [
    {
     "name": "stdout",
     "output_type": "stream",
     "text": [
      "Correlation Analysis\n",
      "corr: -0.723107314935157\n",
      "p-value : 0.0003152005510027819\n"
     ]
    }
   ],
   "source": [
    "df1=[37.6, 38.6,37.2,36.4,38.6,39,37.2,36.1,35.9,37.1,36.9,37.5,36.3,38.1,39,36.9,36.8,37.6,33,33.5]\n",
    "df2=[14,15,14,16,17,14,17,16,15,16,14,16,18,13,15,17,14,16,20,21]\n",
    "corr, pval = stats.pearsonr(df1,df2)\n",
    "print('Correlation Analysis')\n",
    "print(f'corr: {corr}')\n",
    "print(f'p-value : {pval}')"
   ]
  },
  {
   "cell_type": "raw",
   "id": "7da8f82a-608b-42ef-b666-1d0cf771d79a",
   "metadata": {},
   "source": [
    "초코칩의 강도와 재료 반죽온도간 관계에 대해 알아보고 싶다.\n",
    "연속형 변수의 상관성에 대해 가설 검정을 수행하는 방법으로 corrleation analysis 를 실시한다.\n",
    "초코칩 강도와 재료 반죽온도간 상관성 정통계량을 계산하고 이를 통해 가설을 검정한다.\n",
    "\n",
    "corrleation analysis 검정의 가설설정\n",
    "귀무가설 H0 : 초코칩 강도와 재료 반죽온도간 상관성은 없다\n",
    "대립가설 H1 : 초코칩 강도와 재료 반죽온도간 상관성은 있다\n",
    "\n",
    "계산식이 내장된 함수를 활용하여 corr은 -0.723 , p-value = (0.000) 라는 것을 알 수 있다.\n",
    "\n",
    "위의 결과와 같이 p-value = 0.000 으로 유의수준 a=0.05에서 대립가설을 채택한다.\n",
    "즉, 유의수준 5%에서 초코칩의 강도와 재료 반죽온도간 -0.7의 강한 음의 상관관계가 있다고 할 수 있다."
   ]
  },
  {
   "cell_type": "raw",
   "id": "979af180-ea35-49c8-92fd-09a49ea1dc80",
   "metadata": {},
   "source": [
    "상관분석의 특징\n",
    "\n",
    "상관분석에서는 주로 상관계수(Correlation coefficient)를 사용합니다. 상관계수는 -1부터 1까지의 범위를 가지며,\n",
    "-1은 완벽한 음의 상관관계, 1은 완벽한 양의 상관관계를 나타낸다. 0은 두 변수 간에 상관관계가 없음을 의미한다.\n",
    "상관계수가 0에 가까울수록 두 변수 간의 관련성이 낮고, -1 또는 1에 가까울수록 관련성이 높다.\n",
    "\n",
    "선형성 가정:\n",
    "상관분석은 두 변수 간의 선형적인 관계를 가정한다. 즉, 두 변수가 일정한 비율로 변할 때 그에 따라 선형적으로 변화하는 것을 전제로 한다.\n",
    "만약 두 변수 간의 관계가 비선형적이라면 상관분석 결과가 왜곡될 수 있다.\n",
    "\n",
    "상관은 인과관계를 의미하지 않음:\n",
    "상관계수가 높다고 해서 두 변수 사이에 인과관계가 있다는 것을 의미하지는 않는다. 두 변수 간의 상관성이 높다고 해서 반드시 한 변수가 다른 변수를 영향을 주거나\n",
    "그 반대도 성립하지 않는다. 따라서 상관분석 결과를 해석할 때에는 주의해야한다.\n",
    "\n",
    "이상치 영향:\n",
    "이상치(outlier)는 상관분석 결과를 왜곡시킬 수 있다. 이상치는 일반적인 데이터들과 다른 극단적인 값을 갖는 데이터를 의미하고,\n",
    "상관분석에서는 이러한 이상치가 상관계수를 크게 영향을 미칠 수 있다. 이러한 경우에는 이상치를 제거하거나 적절한 방법으로 처리하는 것이 중요하다.\n",
    "\n",
    "상관분석의 한계:\n",
    "상관분석은 두 변수 간의 선형적인 관계를 제외하고 다른 유형의 관계(비선형적인 관계)는 파악하기 어렵다.\n",
    "또한, 두 변수 사이에 상관관계가 있더라도 인과관계를 설명하지는 않는다. 인과관계를 파악하기 위해서는 실험적인 설계나 다른 방법들을 사용해야한다.\n",
    "\n",
    "상관분석은 두 변수 간의 관련성을 빠르게 파악할 수 있는 유용한 분석 방법이지만, 주의할 점과 한계를 이해하고 적절하게 활용하는 것이 중요합니다.\n",
    "또한, 상관분석의 결과를 해석할 때에는 해당 데이터와 문제에 대한 전문적인 지식과 상황을 고려하는 것이 좋습니다."
   ]
  }
 ],
 "metadata": {
  "kernelspec": {
   "display_name": "Python 3 (ipykernel)",
   "language": "python",
   "name": "python3"
  },
  "language_info": {
   "codemirror_mode": {
    "name": "ipython",
    "version": 3
   },
   "file_extension": ".py",
   "mimetype": "text/x-python",
   "name": "python",
   "nbconvert_exporter": "python",
   "pygments_lexer": "ipython3",
   "version": "3.8.16"
  }
 },
 "nbformat": 4,
 "nbformat_minor": 5
}
